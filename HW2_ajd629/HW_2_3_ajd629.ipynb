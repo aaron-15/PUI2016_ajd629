{
 "cells": [
  {
   "cell_type": "code",
   "execution_count": 24,
   "metadata": {
    "collapsed": false
   },
   "outputs": [
    {
     "name": "stdout",
     "output_type": "stream",
     "text": [
      "Populating the interactive namespace from numpy and matplotlib\n"
     ]
    }
   ],
   "source": [
    "import pandas as pd\n",
    "import os\n",
    "import matplotlib.pyplot as pl\n",
    "%pylab inline"
   ]
  },
  {
   "cell_type": "code",
   "execution_count": 25,
   "metadata": {
    "collapsed": false
   },
   "outputs": [
    {
     "data": {
      "text/plain": [
       "'/gws/open/NYCOpenData/nycopendata/data'"
      ]
     },
     "execution_count": 25,
     "metadata": {},
     "output_type": "execute_result"
    }
   ],
   "source": [
    "dfdata = os.getenv('DFDATA')\n",
    "dfdata"
   ]
  },
  {
   "cell_type": "code",
   "execution_count": 26,
   "metadata": {
    "collapsed": false
   },
   "outputs": [],
   "source": [
    "data = pd.read_csv(dfdata+'/5gde-fmj3/1435353010/5gde-fmj3')"
   ]
  },
  {
   "cell_type": "code",
   "execution_count": 8,
   "metadata": {
    "collapsed": false
   },
   "outputs": [
    {
     "data": {
      "text/html": [
       "<div>\n",
       "<table border=\"1\" class=\"dataframe\">\n",
       "  <thead>\n",
       "    <tr style=\"text-align: right;\">\n",
       "      <th></th>\n",
       "      <th>BBL</th>\n",
       "      <th>Street Number</th>\n",
       "      <th>Street Name</th>\n",
       "      <th>Borough</th>\n",
       "      <th>Zip</th>\n",
       "      <th>Benchmarking Submission</th>\n",
       "      <th>Entry Number</th>\n",
       "      <th>Site EUI(kBtu/ft2)</th>\n",
       "      <th>Weather Normalized Source EUI(kBtu/ft2)</th>\n",
       "      <th>Indoor Water Intensity (All Water Sources)(gal/ft2)</th>\n",
       "      <th>Reported Water Method</th>\n",
       "      <th>ENERGY STAR Score</th>\n",
       "      <th>Total GHG Emissions(MtCO2e)</th>\n",
       "      <th>Property Floor Area (Buildngs and Parking)(ft2)</th>\n",
       "      <th>Primary Property Type - Self Selected</th>\n",
       "      <th>Number of Buildings</th>\n",
       "      <th>Reported BINs</th>\n",
       "    </tr>\n",
       "  </thead>\n",
       "  <tbody>\n",
       "    <tr>\n",
       "      <th>0</th>\n",
       "      <td>1000010010</td>\n",
       "      <td>1</td>\n",
       "      <td>GOVERNORS ISLAND</td>\n",
       "      <td>MANHATTAN</td>\n",
       "      <td>10004</td>\n",
       "      <td>No Record as of 08/1/13</td>\n",
       "      <td>NaN</td>\n",
       "      <td>NaN</td>\n",
       "      <td>NaN</td>\n",
       "      <td>NaN</td>\n",
       "      <td>NaN</td>\n",
       "      <td>NaN</td>\n",
       "      <td>NaN</td>\n",
       "      <td>NaN</td>\n",
       "      <td>NaN</td>\n",
       "      <td>1</td>\n",
       "      <td>NaN</td>\n",
       "    </tr>\n",
       "    <tr>\n",
       "      <th>1</th>\n",
       "      <td>1000020002</td>\n",
       "      <td>NaN</td>\n",
       "      <td>MARGINAL STREET</td>\n",
       "      <td>MANHATTAN</td>\n",
       "      <td>10004</td>\n",
       "      <td>No Record as of 08/1/13</td>\n",
       "      <td>NaN</td>\n",
       "      <td>NaN</td>\n",
       "      <td>NaN</td>\n",
       "      <td>NaN</td>\n",
       "      <td>NaN</td>\n",
       "      <td>NaN</td>\n",
       "      <td>NaN</td>\n",
       "      <td>NaN</td>\n",
       "      <td>NaN</td>\n",
       "      <td>0</td>\n",
       "      <td>NaN</td>\n",
       "    </tr>\n",
       "    <tr>\n",
       "      <th>2</th>\n",
       "      <td>1000047501</td>\n",
       "      <td>1</td>\n",
       "      <td>WATER STREET</td>\n",
       "      <td>MANHATTAN</td>\n",
       "      <td>10004</td>\n",
       "      <td>Yes</td>\n",
       "      <td>41.0</td>\n",
       "      <td>102.0</td>\n",
       "      <td>287.9</td>\n",
       "      <td>16.37</td>\n",
       "      <td>Manual</td>\n",
       "      <td>75</td>\n",
       "      <td>25932.68</td>\n",
       "      <td>2428325.0</td>\n",
       "      <td>Office</td>\n",
       "      <td>1</td>\n",
       "      <td>1000005</td>\n",
       "    </tr>\n",
       "    <tr>\n",
       "      <th>3</th>\n",
       "      <td>1000057501</td>\n",
       "      <td>125</td>\n",
       "      <td>BROAD STREET</td>\n",
       "      <td>MANHATTAN</td>\n",
       "      <td>10004</td>\n",
       "      <td>Yes</td>\n",
       "      <td>3871.0</td>\n",
       "      <td>119.6</td>\n",
       "      <td>261.5</td>\n",
       "      <td>NaN</td>\n",
       "      <td>Manual</td>\n",
       "      <td>70</td>\n",
       "      <td>11637.42</td>\n",
       "      <td>1338000.0</td>\n",
       "      <td>Office</td>\n",
       "      <td>1</td>\n",
       "      <td>1000006</td>\n",
       "    </tr>\n",
       "    <tr>\n",
       "      <th>4</th>\n",
       "      <td>1003620001</td>\n",
       "      <td>134</td>\n",
       "      <td>AVENUE D</td>\n",
       "      <td>MANHATTAN</td>\n",
       "      <td>10009</td>\n",
       "      <td>Yes</td>\n",
       "      <td>8312.0</td>\n",
       "      <td>30.3</td>\n",
       "      <td>85.7</td>\n",
       "      <td>1.57</td>\n",
       "      <td>ABS</td>\n",
       "      <td>NaN</td>\n",
       "      <td>13709.99</td>\n",
       "      <td>5207812.0</td>\n",
       "      <td>Multifamily Housing</td>\n",
       "      <td>7</td>\n",
       "      <td>1077504;1077538;1077539;1077540;1077541;107754...</td>\n",
       "    </tr>\n",
       "    <tr>\n",
       "      <th>5</th>\n",
       "      <td>1000090001</td>\n",
       "      <td>34</td>\n",
       "      <td>WHITEHALL STREET</td>\n",
       "      <td>MANHATTAN</td>\n",
       "      <td>10004</td>\n",
       "      <td>Yes</td>\n",
       "      <td>8575.0</td>\n",
       "      <td>99.5</td>\n",
       "      <td>302.6</td>\n",
       "      <td>NaN</td>\n",
       "      <td>Manual</td>\n",
       "      <td>55</td>\n",
       "      <td>7771.16</td>\n",
       "      <td>852840.0</td>\n",
       "      <td>Office</td>\n",
       "      <td>1</td>\n",
       "      <td>1000018</td>\n",
       "    </tr>\n",
       "    <tr>\n",
       "      <th>6</th>\n",
       "      <td>1000090014</td>\n",
       "      <td>17</td>\n",
       "      <td>STATE STREET</td>\n",
       "      <td>MANHATTAN</td>\n",
       "      <td>10004</td>\n",
       "      <td>Yes</td>\n",
       "      <td>735.0</td>\n",
       "      <td>79.7</td>\n",
       "      <td>210.0</td>\n",
       "      <td>NaN</td>\n",
       "      <td>Manual</td>\n",
       "      <td>82</td>\n",
       "      <td>4033.53</td>\n",
       "      <td>574095.0</td>\n",
       "      <td>Office</td>\n",
       "      <td>1</td>\n",
       "      <td>1000020</td>\n",
       "    </tr>\n",
       "    <tr>\n",
       "      <th>7</th>\n",
       "      <td>1000090029</td>\n",
       "      <td>24</td>\n",
       "      <td>WHITEHALL STREET</td>\n",
       "      <td>MANHATTAN</td>\n",
       "      <td>10004</td>\n",
       "      <td>Yes</td>\n",
       "      <td>93.0</td>\n",
       "      <td>139.4</td>\n",
       "      <td>295.2</td>\n",
       "      <td>11.06</td>\n",
       "      <td>Manual</td>\n",
       "      <td>41</td>\n",
       "      <td>10308.19</td>\n",
       "      <td>859807.0</td>\n",
       "      <td>Office</td>\n",
       "      <td>1</td>\n",
       "      <td>1000021</td>\n",
       "    </tr>\n",
       "    <tr>\n",
       "      <th>8</th>\n",
       "      <td>1000100014</td>\n",
       "      <td>33</td>\n",
       "      <td>WHITEHALL STREET</td>\n",
       "      <td>MANHATTAN</td>\n",
       "      <td>10004</td>\n",
       "      <td>Yes</td>\n",
       "      <td>641.0</td>\n",
       "      <td>134.5</td>\n",
       "      <td>432.9</td>\n",
       "      <td>NaN</td>\n",
       "      <td>Manual</td>\n",
       "      <td>36</td>\n",
       "      <td>5068.06</td>\n",
       "      <td>405310.0</td>\n",
       "      <td>Office</td>\n",
       "      <td>1</td>\n",
       "      <td>NaN</td>\n",
       "    </tr>\n",
       "    <tr>\n",
       "      <th>9</th>\n",
       "      <td>1000100016</td>\n",
       "      <td>90</td>\n",
       "      <td>BROAD STREET</td>\n",
       "      <td>MANHATTAN</td>\n",
       "      <td>10004</td>\n",
       "      <td>Yes</td>\n",
       "      <td>2711.0</td>\n",
       "      <td>39.8</td>\n",
       "      <td>118.2</td>\n",
       "      <td>NaN</td>\n",
       "      <td>Manual</td>\n",
       "      <td>90</td>\n",
       "      <td>1405.66</td>\n",
       "      <td>388153.0</td>\n",
       "      <td>Office</td>\n",
       "      <td>1</td>\n",
       "      <td>1-00010-0016</td>\n",
       "    </tr>\n",
       "  </tbody>\n",
       "</table>\n",
       "</div>"
      ],
      "text/plain": [
       "          BBL Street Number       Street Name    Borough    Zip  \\\n",
       "0  1000010010             1  GOVERNORS ISLAND  MANHATTAN  10004   \n",
       "1  1000020002           NaN   MARGINAL STREET  MANHATTAN  10004   \n",
       "2  1000047501             1      WATER STREET  MANHATTAN  10004   \n",
       "3  1000057501           125      BROAD STREET  MANHATTAN  10004   \n",
       "4  1003620001           134          AVENUE D  MANHATTAN  10009   \n",
       "5  1000090001            34  WHITEHALL STREET  MANHATTAN  10004   \n",
       "6  1000090014            17      STATE STREET  MANHATTAN  10004   \n",
       "7  1000090029            24  WHITEHALL STREET  MANHATTAN  10004   \n",
       "8  1000100014            33  WHITEHALL STREET  MANHATTAN  10004   \n",
       "9  1000100016            90      BROAD STREET  MANHATTAN  10004   \n",
       "\n",
       "   Benchmarking Submission  Entry Number  Site EUI(kBtu/ft2)  \\\n",
       "0  No Record as of 08/1/13           NaN                 NaN   \n",
       "1  No Record as of 08/1/13           NaN                 NaN   \n",
       "2                      Yes          41.0               102.0   \n",
       "3                      Yes        3871.0               119.6   \n",
       "4                      Yes        8312.0                30.3   \n",
       "5                      Yes        8575.0                99.5   \n",
       "6                      Yes         735.0                79.7   \n",
       "7                      Yes          93.0               139.4   \n",
       "8                      Yes         641.0               134.5   \n",
       "9                      Yes        2711.0                39.8   \n",
       "\n",
       "   Weather Normalized Source EUI(kBtu/ft2)  \\\n",
       "0                                      NaN   \n",
       "1                                      NaN   \n",
       "2                                    287.9   \n",
       "3                                    261.5   \n",
       "4                                     85.7   \n",
       "5                                    302.6   \n",
       "6                                    210.0   \n",
       "7                                    295.2   \n",
       "8                                    432.9   \n",
       "9                                    118.2   \n",
       "\n",
       "   Indoor Water Intensity (All Water Sources)(gal/ft2) Reported Water Method  \\\n",
       "0                                                NaN                     NaN   \n",
       "1                                                NaN                     NaN   \n",
       "2                                              16.37                  Manual   \n",
       "3                                                NaN                  Manual   \n",
       "4                                               1.57                     ABS   \n",
       "5                                                NaN                  Manual   \n",
       "6                                                NaN                  Manual   \n",
       "7                                              11.06                  Manual   \n",
       "8                                                NaN                  Manual   \n",
       "9                                                NaN                  Manual   \n",
       "\n",
       "  ENERGY STAR Score  Total GHG Emissions(MtCO2e)  \\\n",
       "0               NaN                          NaN   \n",
       "1               NaN                          NaN   \n",
       "2                75                     25932.68   \n",
       "3                70                     11637.42   \n",
       "4               NaN                     13709.99   \n",
       "5                55                      7771.16   \n",
       "6                82                      4033.53   \n",
       "7                41                     10308.19   \n",
       "8                36                      5068.06   \n",
       "9                90                      1405.66   \n",
       "\n",
       "   Property Floor Area (Buildngs and Parking)(ft2)  \\\n",
       "0                                              NaN   \n",
       "1                                              NaN   \n",
       "2                                        2428325.0   \n",
       "3                                        1338000.0   \n",
       "4                                        5207812.0   \n",
       "5                                         852840.0   \n",
       "6                                         574095.0   \n",
       "7                                         859807.0   \n",
       "8                                         405310.0   \n",
       "9                                         388153.0   \n",
       "\n",
       "  Primary Property Type - Self Selected  Number of Buildings  \\\n",
       "0                                   NaN                    1   \n",
       "1                                   NaN                    0   \n",
       "2                                Office                    1   \n",
       "3                                Office                    1   \n",
       "4                   Multifamily Housing                    7   \n",
       "5                                Office                    1   \n",
       "6                                Office                    1   \n",
       "7                                Office                    1   \n",
       "8                                Office                    1   \n",
       "9                                Office                    1   \n",
       "\n",
       "                                       Reported BINs  \n",
       "0                                                NaN  \n",
       "1                                                NaN  \n",
       "2                                            1000005  \n",
       "3                                            1000006  \n",
       "4  1077504;1077538;1077539;1077540;1077541;107754...  \n",
       "5                                            1000018  \n",
       "6                                            1000020  \n",
       "7                                            1000021  \n",
       "8                                                NaN  \n",
       "9                                       1-00010-0016  "
      ]
     },
     "execution_count": 8,
     "metadata": {},
     "output_type": "execute_result"
    }
   ],
   "source": [
    "data.head(10)"
   ]
  },
  {
   "cell_type": "code",
   "execution_count": 27,
   "metadata": {
    "collapsed": false
   },
   "outputs": [
    {
     "data": {
      "text/plain": [
       "Index([u'BBL', u'Street Number', u'Street Name', u'Borough', u'Zip',\n",
       "       u'Benchmarking Submission', u'Entry Number', u'Site EUI(kBtu/ft2)',\n",
       "       u'Weather Normalized Source EUI(kBtu/ft2)',\n",
       "       u'Indoor Water Intensity (All Water Sources)(gal/ft2)',\n",
       "       u'Reported Water Method', u'ENERGY STAR Score',\n",
       "       u'Total GHG Emissions(MtCO2e)',\n",
       "       u'Property Floor Area (Buildngs and Parking)(ft2)',\n",
       "       u'Primary Property Type - Self Selected', u'Number of Buildings',\n",
       "       u'Reported BINs'],\n",
       "      dtype='object')"
      ]
     },
     "execution_count": 27,
     "metadata": {},
     "output_type": "execute_result"
    }
   ],
   "source": [
    "data.columns"
   ]
  },
  {
   "cell_type": "code",
   "execution_count": 28,
   "metadata": {
    "collapsed": false
   },
   "outputs": [
    {
     "data": {
      "text/html": [
       "<div>\n",
       "<table border=\"1\" class=\"dataframe\">\n",
       "  <thead>\n",
       "    <tr style=\"text-align: right;\">\n",
       "      <th></th>\n",
       "      <th>Weather Normalized Source EUI(kBtu/ft2)</th>\n",
       "      <th>Total GHG Emissions(MtCO2e)</th>\n",
       "    </tr>\n",
       "  </thead>\n",
       "  <tbody>\n",
       "    <tr>\n",
       "      <th>0</th>\n",
       "      <td>NaN</td>\n",
       "      <td>NaN</td>\n",
       "    </tr>\n",
       "    <tr>\n",
       "      <th>1</th>\n",
       "      <td>NaN</td>\n",
       "      <td>NaN</td>\n",
       "    </tr>\n",
       "    <tr>\n",
       "      <th>2</th>\n",
       "      <td>287.9</td>\n",
       "      <td>25932.68</td>\n",
       "    </tr>\n",
       "    <tr>\n",
       "      <th>3</th>\n",
       "      <td>261.5</td>\n",
       "      <td>11637.42</td>\n",
       "    </tr>\n",
       "    <tr>\n",
       "      <th>4</th>\n",
       "      <td>85.7</td>\n",
       "      <td>13709.99</td>\n",
       "    </tr>\n",
       "    <tr>\n",
       "      <th>5</th>\n",
       "      <td>302.6</td>\n",
       "      <td>7771.16</td>\n",
       "    </tr>\n",
       "    <tr>\n",
       "      <th>6</th>\n",
       "      <td>210.0</td>\n",
       "      <td>4033.53</td>\n",
       "    </tr>\n",
       "    <tr>\n",
       "      <th>7</th>\n",
       "      <td>295.2</td>\n",
       "      <td>10308.19</td>\n",
       "    </tr>\n",
       "    <tr>\n",
       "      <th>8</th>\n",
       "      <td>432.9</td>\n",
       "      <td>5068.06</td>\n",
       "    </tr>\n",
       "    <tr>\n",
       "      <th>9</th>\n",
       "      <td>118.2</td>\n",
       "      <td>1405.66</td>\n",
       "    </tr>\n",
       "  </tbody>\n",
       "</table>\n",
       "</div>"
      ],
      "text/plain": [
       "   Weather Normalized Source EUI(kBtu/ft2)  Total GHG Emissions(MtCO2e)\n",
       "0                                      NaN                          NaN\n",
       "1                                      NaN                          NaN\n",
       "2                                    287.9                     25932.68\n",
       "3                                    261.5                     11637.42\n",
       "4                                     85.7                     13709.99\n",
       "5                                    302.6                      7771.16\n",
       "6                                    210.0                      4033.53\n",
       "7                                    295.2                     10308.19\n",
       "8                                    432.9                      5068.06\n",
       "9                                    118.2                      1405.66"
      ]
     },
     "execution_count": 28,
     "metadata": {},
     "output_type": "execute_result"
    }
   ],
   "source": [
    "col_2 = data[['Weather Normalized Source EUI(kBtu/ft2)','Total GHG Emissions(MtCO2e)']]\n",
    "\n",
    "col_2.head(10)"
   ]
  },
  {
   "cell_type": "code",
   "execution_count": 29,
   "metadata": {
    "collapsed": false
   },
   "outputs": [
    {
     "data": {
      "text/plain": [
       "<matplotlib.text.Text at 0x7f0b8d221b10>"
      ]
     },
     "execution_count": 29,
     "metadata": {},
     "output_type": "execute_result"
    },
    {
     "data": {
      "text/plain": [
       "<matplotlib.figure.Figure at 0x7f0b8d221510>"
      ]
     },
     "metadata": {},
     "output_type": "display_data"
    },
    {
     "data": {
      "image/png": "[encoded data removed]",
      "text/plain": [
       "<matplotlib.figure.Figure at 0x7f0b8e54a910>"
      ]
     },
     "metadata": {},
     "output_type": "display_data"
    }
   ],
   "source": [
    "pl.figure(figsize=(5,5))\n",
    "pl.suptitle('Scatter Plot', fontsize=22)\n",
    "data.plot.scatter(x = 'Weather Normalized Source EUI(kBtu/ft2)', y = 'Total GHG Emissions(MtCO2e)', label = \"GHG \\\n",
    "vs Weather\")\n",
    "pl.text(-200000, -12500000, ' Fig 1: Total GHG Emissions vs Weather Normalized Source', fontsize = 15)"
   ]
  },
  {
   "cell_type": "code",
   "execution_count": 42,
   "metadata": {
    "collapsed": true
   },
   "outputs": [],
   "source": []
  },
  {
   "cell_type": "code",
   "execution_count": null,
   "metadata": {
    "collapsed": true
   },
   "outputs": [],
   "source": []
  }
 ],
 "metadata": {
  "kernelspec": {
   "display_name": "PUI2016_Python2",
   "language": "python",
   "name": "pui2016_python2"
  },
  "language_info": {
   "codemirror_mode": {
    "name": "ipython",
    "version": 2
   },
   "file_extension": ".py",
   "mimetype": "text/x-python",
   "name": "python",
   "nbconvert_exporter": "python",
   "pygments_lexer": "ipython2",
   "version": "2.7.12"
  }
 },
 "nbformat": 4,
 "nbformat_minor": 0
}
